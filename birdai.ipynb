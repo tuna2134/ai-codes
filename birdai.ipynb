{
  "nbformat": 4,
  "nbformat_minor": 0,
  "metadata": {
    "colab": {
      "provenance": [],
      "mount_file_id": "1FMN6LPMA85xfx2Xs-m3RsyJqm5gUBMg6",
      "authorship_tag": "ABX9TyMolLe7GSq7Q1NWt5KCQLog",
      "include_colab_link": true
    },
    "kernelspec": {
      "name": "python3",
      "display_name": "Python 3"
    },
    "language_info": {
      "name": "python"
    },
    "accelerator": "GPU",
    "gpuClass": "standard"
  },
  "cells": [
    {
      "cell_type": "markdown",
      "metadata": {
        "id": "view-in-github",
        "colab_type": "text"
      },
      "source": [
        "<a href=\"https://colab.research.google.com/github/tuna2134/ai-codes/blob/main/birdai.ipynb\" target=\"_parent\"><img src=\"https://colab.research.google.com/assets/colab-badge.svg\" alt=\"Open In Colab\"/></a>"
      ]
    },
    {
      "cell_type": "code",
      "source": [
        "from google.colab import drive\n",
        "drive.mount('/content/drive')"
      ],
      "metadata": {
        "colab": {
          "base_uri": "https://localhost:8080/"
        },
        "id": "KzSjFp1JkRbY",
        "outputId": "39ee50d7-8f6f-4a0f-f08a-b611b4a6838d"
      },
      "execution_count": null,
      "outputs": [
        {
          "output_type": "stream",
          "name": "stdout",
          "text": [
            "Drive already mounted at /content/drive; to attempt to forcibly remount, call drive.mount(\"/content/drive\", force_remount=True).\n"
          ]
        }
      ]
    },
    {
      "cell_type": "code",
      "execution_count": null,
      "metadata": {
        "colab": {
          "base_uri": "https://localhost:8080/"
        },
        "id": "QTBRMhRIaCEW",
        "outputId": "e70ecc0c-12e0-4da5-be2f-a02bdf9afa16"
      },
      "outputs": [
        {
          "output_type": "stream",
          "name": "stdout",
          "text": [
            "Looking in indexes: https://pypi.org/simple, https://us-python.pkg.dev/colab-wheels/public/simple/\n",
            "Collecting icrawler\n",
            "  Downloading icrawler-0.6.6-py2.py3-none-any.whl (35 kB)\n",
            "Requirement already satisfied: lxml in /usr/local/lib/python3.9/dist-packages (from icrawler) (4.9.2)\n",
            "Requirement already satisfied: beautifulsoup4>=4.4.1 in /usr/local/lib/python3.9/dist-packages (from icrawler) (4.11.2)\n",
            "Requirement already satisfied: Pillow in /usr/local/lib/python3.9/dist-packages (from icrawler) (8.4.0)\n",
            "Requirement already satisfied: requests>=2.9.1 in /usr/local/lib/python3.9/dist-packages (from icrawler) (2.27.1)\n",
            "Requirement already satisfied: six>=1.10.0 in /usr/local/lib/python3.9/dist-packages (from icrawler) (1.16.0)\n",
            "Requirement already satisfied: soupsieve>1.2 in /usr/local/lib/python3.9/dist-packages (from beautifulsoup4>=4.4.1->icrawler) (2.4.1)\n",
            "Requirement already satisfied: idna<4,>=2.5 in /usr/local/lib/python3.9/dist-packages (from requests>=2.9.1->icrawler) (3.4)\n",
            "Requirement already satisfied: certifi>=2017.4.17 in /usr/local/lib/python3.9/dist-packages (from requests>=2.9.1->icrawler) (2022.12.7)\n",
            "Requirement already satisfied: urllib3<1.27,>=1.21.1 in /usr/local/lib/python3.9/dist-packages (from requests>=2.9.1->icrawler) (1.26.15)\n",
            "Requirement already satisfied: charset-normalizer~=2.0.0 in /usr/local/lib/python3.9/dist-packages (from requests>=2.9.1->icrawler) (2.0.12)\n",
            "Installing collected packages: icrawler\n",
            "Successfully installed icrawler-0.6.6\n"
          ]
        }
      ],
      "source": [
        "!pip install icrawler"
      ]
    },
    {
      "cell_type": "code",
      "source": [
        "from icrawler.builtin import BingImageCrawler\n",
        "\n",
        "google_crawler = BingImageCrawler(\n",
        "    feeder_threads=1,\n",
        "    parser_threads=1,\n",
        "    downloader_threads=4,\n",
        "    storage={'root_dir': 'images/crow'})\n",
        "google_crawler.crawl(keyword='カラス', max_num=1000)"
      ],
      "metadata": {
        "colab": {
          "base_uri": "https://localhost:8080/"
        },
        "id": "l0a3_iE0aV2S",
        "outputId": "cf34325f-75ac-4a1a-e47f-3e770fbe74ef"
      },
      "execution_count": null,
      "outputs": [
        {
          "output_type": "stream",
          "name": "stderr",
          "text": [
            "ERROR:downloader:Exception caught when downloading file https://www.kyoiku-shuppan.co.jp/docs/pages/rika/guide/bird/img/hashibutogarasu_1.jpg, error: HTTPSConnectionPool(host='www.kyoiku-shuppan.co.jp', port=443): Max retries exceeded with url: /docs/pages/rika/guide/bird/img/hashibutogarasu_1.jpg (Caused by SSLError(SSLError(1, '[SSL: DH_KEY_TOO_SMALL] dh key too small (_ssl.c:1129)'))), remaining retry times: 2\n",
            "ERROR:downloader:Exception caught when downloading file https://www.kyoiku-shuppan.co.jp/docs/pages/rika/guide/bird/img/hashibutogarasu_1.jpg, error: HTTPSConnectionPool(host='www.kyoiku-shuppan.co.jp', port=443): Max retries exceeded with url: /docs/pages/rika/guide/bird/img/hashibutogarasu_1.jpg (Caused by SSLError(SSLError(1, '[SSL: DH_KEY_TOO_SMALL] dh key too small (_ssl.c:1129)'))), remaining retry times: 1\n",
            "ERROR:downloader:Exception caught when downloading file https://www.kyoiku-shuppan.co.jp/docs/pages/rika/guide/bird/img/hashibutogarasu_1.jpg, error: HTTPSConnectionPool(host='www.kyoiku-shuppan.co.jp', port=443): Max retries exceeded with url: /docs/pages/rika/guide/bird/img/hashibutogarasu_1.jpg (Caused by SSLError(SSLError(1, '[SSL: DH_KEY_TOO_SMALL] dh key too small (_ssl.c:1129)'))), remaining retry times: 0\n",
            "ERROR:downloader:Response status code 404, file https://pbs.twimg.com/media/C3u_VSVUcAAAl9h.jpg\n",
            "ERROR:downloader:Exception caught when downloading file https://sokuup.net/img/soku_35685.jpg, error: HTTPSConnectionPool(host='sokuup.net', port=443): Max retries exceeded with url: /img/soku_35685.jpg (Caused by NewConnectionError('<urllib3.connection.HTTPSConnection object at 0x7fde4043bdf0>: Failed to establish a new connection: [Errno 113] No route to host')), remaining retry times: 2\n",
            "ERROR:downloader:Exception caught when downloading file https://sokuup.net/img/soku_35685.jpg, error: HTTPSConnectionPool(host='sokuup.net', port=443): Max retries exceeded with url: /img/soku_35685.jpg (Caused by NewConnectionError('<urllib3.connection.HTTPSConnection object at 0x7fde403db430>: Failed to establish a new connection: [Errno 113] No route to host')), remaining retry times: 1\n",
            "ERROR:downloader:Exception caught when downloading file https://sokuup.net/img/soku_35685.jpg, error: HTTPSConnectionPool(host='sokuup.net', port=443): Max retries exceeded with url: /img/soku_35685.jpg (Caused by NewConnectionError('<urllib3.connection.HTTPSConnection object at 0x7fde404d3a90>: Failed to establish a new connection: [Errno 113] No route to host')), remaining retry times: 0\n",
            "ERROR:downloader:Response status code 404, file https://okavangomoremi.web.fc2.com/1167/Crow/Cape_Crow01.jpg\n",
            "ERROR:downloader:Response status code 403, file http://mos-mos.com/wp-content/uploads/2013/10/28cd4481e1b8120e2a77ee731e2b4841.jpg\n",
            "ERROR:downloader:Response status code 404, file https://okavangomoremi.web.fc2.com/1167/Crow/Crow.jpg\n",
            "ERROR:downloader:Exception caught when downloading file https://pictkan.com/uploads/converted/15/06/05/3390875693-crows-559274_1920-pk1-1280x853-MM-100.jpg, error: HTTPSConnectionPool(host='pictkan.com', port=443): Max retries exceeded with url: /uploads/converted/15/06/05/3390875693-crows-559274_1920-pk1-1280x853-MM-100.jpg (Caused by NewConnectionError('<urllib3.connection.HTTPSConnection object at 0x7fde403bd4c0>: Failed to establish a new connection: [Errno -2] Name or service not known')), remaining retry times: 2\n",
            "ERROR:downloader:Exception caught when downloading file https://pictkan.com/uploads/converted/15/06/05/3390875693-crows-559274_1920-pk1-1280x853-MM-100.jpg, error: HTTPSConnectionPool(host='pictkan.com', port=443): Max retries exceeded with url: /uploads/converted/15/06/05/3390875693-crows-559274_1920-pk1-1280x853-MM-100.jpg (Caused by NewConnectionError('<urllib3.connection.HTTPSConnection object at 0x7fde401b4b20>: Failed to establish a new connection: [Errno -2] Name or service not known')), remaining retry times: 1\n",
            "ERROR:downloader:Exception caught when downloading file https://pictkan.com/uploads/converted/15/06/05/3390875693-crows-559274_1920-pk1-1280x853-MM-100.jpg, error: HTTPSConnectionPool(host='pictkan.com', port=443): Max retries exceeded with url: /uploads/converted/15/06/05/3390875693-crows-559274_1920-pk1-1280x853-MM-100.jpg (Caused by NewConnectionError('<urllib3.connection.HTTPSConnection object at 0x7fde403e09a0>: Failed to establish a new connection: [Errno -2] Name or service not known')), remaining retry times: 0\n",
            "ERROR:downloader:Response status code 404, file http://www5.plala.or.jp/turinbo/images/karasuei.jpg\n",
            "ERROR:downloader:Response status code 404, file http://www10.plala.or.jp/ayac/topix/top21-08a.jpg\n",
            "ERROR:downloader:Exception caught when downloading file https://ww1.fukuoka-edu.ac.jp/~fukuhara/keitai/pict/karasunoendou_hana3.jpg, error: HTTPSConnectionPool(host='ww1.fukuoka-edu.ac.jp', port=443): Max retries exceeded with url: /~fukuhara/keitai/pict/karasunoendou_hana3.jpg (Caused by SSLError(SSLCertVerificationError(1, '[SSL: CERTIFICATE_VERIFY_FAILED] certificate verify failed: certificate has expired (_ssl.c:1129)'))), remaining retry times: 2\n",
            "ERROR:downloader:Exception caught when downloading file https://ww1.fukuoka-edu.ac.jp/~fukuhara/keitai/pict/karasunoendou_hana3.jpg, error: HTTPSConnectionPool(host='ww1.fukuoka-edu.ac.jp', port=443): Max retries exceeded with url: /~fukuhara/keitai/pict/karasunoendou_hana3.jpg (Caused by SSLError(SSLCertVerificationError(1, '[SSL: CERTIFICATE_VERIFY_FAILED] certificate verify failed: certificate has expired (_ssl.c:1129)'))), remaining retry times: 1\n",
            "ERROR:downloader:Exception caught when downloading file https://ww1.fukuoka-edu.ac.jp/~fukuhara/keitai/pict/karasunoendou_hana3.jpg, error: HTTPSConnectionPool(host='ww1.fukuoka-edu.ac.jp', port=443): Max retries exceeded with url: /~fukuhara/keitai/pict/karasunoendou_hana3.jpg (Caused by SSLError(SSLCertVerificationError(1, '[SSL: CERTIFICATE_VERIFY_FAILED] certificate verify failed: certificate has expired (_ssl.c:1129)'))), remaining retry times: 0\n",
            "ERROR:downloader:Response status code 403, file http://www.omnh.net/aquapia/blog/20130222tobi%26karasu.jpg\n",
            "ERROR:downloader:Response status code 404, file https://p16-amd-va.axod.net/obj/tos-maliva-p-0068/cbbf8fbde41a7eb3ec0247cfa3828fe6.jpg\n",
            "ERROR:downloader:Response status code 404, file https://p16-amd-sg.axod.net/obj/tos-maliva-p-0068/37a371cef1266521bc67a18a517ded9d.jpg\n",
            "ERROR:downloader:Response status code 404, file https://p16-amd-va.axod.net/obj/tos-maliva-p-0068/f9ae7a76422ba3f5e0dead394d8cc381.jpg\n"
          ]
        }
      ]
    },
    {
      "cell_type": "code",
      "source": [
        "from icrawler.builtin import BingImageCrawler\n",
        "\n",
        "google_crawler = BingImageCrawler(\n",
        "    feeder_threads=1,\n",
        "    parser_threads=1,\n",
        "    downloader_threads=4,\n",
        "    storage={'root_dir': 'images/sparrow'})\n",
        "google_crawler.crawl(keyword='鳥　スズメ', max_num=1000)"
      ],
      "metadata": {
        "colab": {
          "base_uri": "https://localhost:8080/"
        },
        "id": "OcxtNqmXap6R",
        "outputId": "8bd3f5d7-0345-476d-af4e-73a7b472cedf"
      },
      "execution_count": null,
      "outputs": [
        {
          "output_type": "stream",
          "name": "stderr",
          "text": [
            "ERROR:downloader:Response status code 403, file https://c.wallhere.com/photos/50/67/sparrow_bird_branch_sit-659673.jpg\n",
            "ERROR:downloader:Exception caught when downloading file https://sokuup.net/img/soku_18941.jpg, error: HTTPSConnectionPool(host='sokuup.net', port=443): Max retries exceeded with url: /img/soku_18941.jpg (Caused by NewConnectionError('<urllib3.connection.HTTPSConnection object at 0x7fde275355b0>: Failed to establish a new connection: [Errno 113] No route to host')), remaining retry times: 2\n",
            "ERROR:downloader:Response status code 403, file https://c.wallhere.com/photos/69/63/bird_sparrow_closeup_nature-679744.jpg\n",
            "ERROR:downloader:Exception caught when downloading file https://sokuup.net/img/soku_18941.jpg, error: HTTPSConnectionPool(host='sokuup.net', port=443): Max retries exceeded with url: /img/soku_18941.jpg (Caused by NewConnectionError('<urllib3.connection.HTTPSConnection object at 0x7fde27526340>: Failed to establish a new connection: [Errno 113] No route to host')), remaining retry times: 1\n",
            "ERROR:downloader:Exception caught when downloading file https://sokuup.net/img/soku_11297.jpg, error: HTTPSConnectionPool(host='sokuup.net', port=443): Max retries exceeded with url: /img/soku_11297.jpg (Caused by NewConnectionError('<urllib3.connection.HTTPSConnection object at 0x7fde27535cd0>: Failed to establish a new connection: [Errno 113] No route to host')), remaining retry times: 2\n",
            "ERROR:downloader:Exception caught when downloading file https://sokuup.net/img/soku_35280.jpg, error: HTTPSConnectionPool(host='sokuup.net', port=443): Max retries exceeded with url: /img/soku_35280.jpg (Caused by NewConnectionError('<urllib3.connection.HTTPSConnection object at 0x7fde27526250>: Failed to establish a new connection: [Errno 113] No route to host')), remaining retry times: 2\n",
            "ERROR:downloader:Exception caught when downloading file https://sokuup.net/img/soku_18941.jpg, error: HTTPSConnectionPool(host='sokuup.net', port=443): Max retries exceeded with url: /img/soku_18941.jpg (Caused by NewConnectionError('<urllib3.connection.HTTPSConnection object at 0x7fde276bc6a0>: Failed to establish a new connection: [Errno 113] No route to host')), remaining retry times: 0\n",
            "ERROR:downloader:Exception caught when downloading file http://sokuup.net/img/soku_10803.jpg, error: HTTPConnectionPool(host='sokuup.net', port=80): Max retries exceeded with url: /img/soku_10803.jpg (Caused by NewConnectionError('<urllib3.connection.HTTPConnection object at 0x7fde27535250>: Failed to establish a new connection: [Errno 113] No route to host')), remaining retry times: 2\n",
            "ERROR:downloader:Exception caught when downloading file https://sokuup.net/img/soku_11297.jpg, error: HTTPSConnectionPool(host='sokuup.net', port=443): Max retries exceeded with url: /img/soku_11297.jpg (Caused by NewConnectionError('<urllib3.connection.HTTPSConnection object at 0x7fde4010e400>: Failed to establish a new connection: [Errno 113] No route to host')), remaining retry times: 1\n",
            "ERROR:downloader:Exception caught when downloading file https://sokuup.net/img/soku_35280.jpg, error: HTTPSConnectionPool(host='sokuup.net', port=443): Max retries exceeded with url: /img/soku_35280.jpg (Caused by NewConnectionError('<urllib3.connection.HTTPSConnection object at 0x7fde27389670>: Failed to establish a new connection: [Errno 113] No route to host')), remaining retry times: 1\n",
            "ERROR:downloader:Exception caught when downloading file https://sokuup.net/img/soku_35280.jpg, error: HTTPSConnectionPool(host='sokuup.net', port=443): Max retries exceeded with url: /img/soku_35280.jpg (Caused by NewConnectionError('<urllib3.connection.HTTPSConnection object at 0x7fde27389370>: Failed to establish a new connection: [Errno 113] No route to host')), remaining retry times: 0\n",
            "ERROR:downloader:Exception caught when downloading file https://sokuup.net/img/soku_11297.jpg, error: HTTPSConnectionPool(host='sokuup.net', port=443): Max retries exceeded with url: /img/soku_11297.jpg (Caused by NewConnectionError('<urllib3.connection.HTTPSConnection object at 0x7fde27509580>: Failed to establish a new connection: [Errno 113] No route to host')), remaining retry times: 0\n",
            "ERROR:downloader:Exception caught when downloading file http://sokuup.net/img/soku_10803.jpg, error: HTTPConnectionPool(host='sokuup.net', port=80): Max retries exceeded with url: /img/soku_10803.jpg (Caused by NewConnectionError('<urllib3.connection.HTTPConnection object at 0x7fde2762f640>: Failed to establish a new connection: [Errno 113] No route to host')), remaining retry times: 1\n",
            "ERROR:downloader:Response status code 403, file https://c.wallhere.com/photos/9b/0d/sparrows_birds_fly_swing_three-1047346.jpg\n",
            "ERROR:downloader:Response status code 403, file https://c.wallhere.com/photos/78/26/birds_animals-79415.jpg\n",
            "ERROR:downloader:Exception caught when downloading file http://sokuup.net/img/soku_10803.jpg, error: HTTPConnectionPool(host='sokuup.net', port=80): Max retries exceeded with url: /img/soku_10803.jpg (Caused by NewConnectionError('<urllib3.connection.HTTPConnection object at 0x7fde27505cd0>: Failed to establish a new connection: [Errno 113] No route to host')), remaining retry times: 0\n",
            "ERROR:downloader:Exception caught when downloading file https://sokuup.net/img/soku_16229.jpg, error: HTTPSConnectionPool(host='sokuup.net', port=443): Max retries exceeded with url: /img/soku_16229.jpg (Caused by NewConnectionError('<urllib3.connection.HTTPSConnection object at 0x7fde2764c520>: Failed to establish a new connection: [Errno 113] No route to host')), remaining retry times: 2\n",
            "ERROR:downloader:Response status code 403, file https://c.wallhere.com/photos/02/d0/1680x1050_px_birds_Sparrows-1647409.jpg\n",
            "ERROR:downloader:Exception caught when downloading file https://sokuup.net/img/soku_16229.jpg, error: HTTPSConnectionPool(host='sokuup.net', port=443): Max retries exceeded with url: /img/soku_16229.jpg (Caused by ConnectTimeoutError(<urllib3.connection.HTTPSConnection object at 0x7fde2764c910>, 'Connection to sokuup.net timed out. (connect timeout=5)')), remaining retry times: 1\n",
            "ERROR:downloader:Exception caught when downloading file https://sokuup.net/img/soku_16231.jpg, error: HTTPSConnectionPool(host='sokuup.net', port=443): Max retries exceeded with url: /img/soku_16231.jpg (Caused by NewConnectionError('<urllib3.connection.HTTPSConnection object at 0x7fde4010ea30>: Failed to establish a new connection: [Errno 113] No route to host')), remaining retry times: 2\n",
            "ERROR:downloader:Exception caught when downloading file https://sokuup.net/img/soku_16231.jpg, error: HTTPSConnectionPool(host='sokuup.net', port=443): Max retries exceeded with url: /img/soku_16231.jpg (Caused by NewConnectionError('<urllib3.connection.HTTPSConnection object at 0x7fde40081100>: Failed to establish a new connection: [Errno 113] No route to host')), remaining retry times: 1\n",
            "ERROR:downloader:Exception caught when downloading file https://sokuup.net/img/soku_16229.jpg, error: HTTPSConnectionPool(host='sokuup.net', port=443): Max retries exceeded with url: /img/soku_16229.jpg (Caused by NewConnectionError('<urllib3.connection.HTTPSConnection object at 0x7fde40081430>: Failed to establish a new connection: [Errno 113] No route to host')), remaining retry times: 0\n",
            "ERROR:downloader:Response status code 403, file https://c.wallhere.com/photos/aa/b7/animals_owl_birds-257338.jpg\n",
            "ERROR:downloader:Exception caught when downloading file https://sokuup.net/imgs/soku_11257.jpg, error: HTTPSConnectionPool(host='sokuup.net', port=443): Max retries exceeded with url: /imgs/soku_11257.jpg (Caused by NewConnectionError('<urllib3.connection.HTTPSConnection object at 0x7fde4010e0d0>: Failed to establish a new connection: [Errno 113] No route to host')), remaining retry times: 2\n",
            "ERROR:downloader:Exception caught when downloading file https://sokuup.net/img/soku_29765.jpg, error: HTTPSConnectionPool(host='sokuup.net', port=443): Max retries exceeded with url: /img/soku_29765.jpg (Caused by NewConnectionError('<urllib3.connection.HTTPSConnection object at 0x7fde27511ca0>: Failed to establish a new connection: [Errno 113] No route to host')), remaining retry times: 2\n",
            "ERROR:downloader:Exception caught when downloading file https://sokuup.net/img/soku_16231.jpg, error: HTTPSConnectionPool(host='sokuup.net', port=443): Max retries exceeded with url: /img/soku_16231.jpg (Caused by NewConnectionError('<urllib3.connection.HTTPSConnection object at 0x7fde40073070>: Failed to establish a new connection: [Errno 113] No route to host')), remaining retry times: 0\n",
            "ERROR:downloader:Exception caught when downloading file https://sokuup.net/img/soku_12447.jpg, error: HTTPSConnectionPool(host='sokuup.net', port=443): Max retries exceeded with url: /img/soku_12447.jpg (Caused by NewConnectionError('<urllib3.connection.HTTPSConnection object at 0x7fde276d5580>: Failed to establish a new connection: [Errno 113] No route to host')), remaining retry times: 2\n",
            "ERROR:downloader:Exception caught when downloading file https://sokuup.net/img/soku_29765.jpg, error: HTTPSConnectionPool(host='sokuup.net', port=443): Max retries exceeded with url: /img/soku_29765.jpg (Caused by NewConnectionError('<urllib3.connection.HTTPSConnection object at 0x7fde276d58e0>: Failed to establish a new connection: [Errno 113] No route to host')), remaining retry times: 1\n",
            "ERROR:downloader:Exception caught when downloading file https://sokuup.net/imgs/soku_11257.jpg, error: HTTPSConnectionPool(host='sokuup.net', port=443): Max retries exceeded with url: /imgs/soku_11257.jpg (Caused by NewConnectionError('<urllib3.connection.HTTPSConnection object at 0x7fde276bc520>: Failed to establish a new connection: [Errno 113] No route to host')), remaining retry times: 1\n",
            "ERROR:downloader:Exception caught when downloading file https://sokuup.net/imgs/soku_11257.jpg, error: HTTPSConnectionPool(host='sokuup.net', port=443): Max retries exceeded with url: /imgs/soku_11257.jpg (Caused by NewConnectionError('<urllib3.connection.HTTPSConnection object at 0x7fde2764c4c0>: Failed to establish a new connection: [Errno 113] No route to host')), remaining retry times: 0\n",
            "ERROR:downloader:Exception caught when downloading file https://sokuup.net/img/soku_29765.jpg, error: HTTPSConnectionPool(host='sokuup.net', port=443): Max retries exceeded with url: /img/soku_29765.jpg (Caused by NewConnectionError('<urllib3.connection.HTTPSConnection object at 0x7fde2764ecd0>: Failed to establish a new connection: [Errno 113] No route to host')), remaining retry times: 0\n",
            "ERROR:downloader:Exception caught when downloading file https://sokuup.net/img/soku_12447.jpg, error: HTTPSConnectionPool(host='sokuup.net', port=443): Max retries exceeded with url: /img/soku_12447.jpg (Caused by NewConnectionError('<urllib3.connection.HTTPSConnection object at 0x7fde2764eca0>: Failed to establish a new connection: [Errno 113] No route to host')), remaining retry times: 1\n",
            "ERROR:downloader:Exception caught when downloading file https://sokuup.net/img/soku_06060.jpg, error: HTTPSConnectionPool(host='sokuup.net', port=443): Max retries exceeded with url: /img/soku_06060.jpg (Caused by NewConnectionError('<urllib3.connection.HTTPSConnection object at 0x7fde40569460>: Failed to establish a new connection: [Errno 113] No route to host')), remaining retry times: 2\n",
            "ERROR:downloader:Exception caught when downloading file https://sokuup.net/img/soku_35209.jpg, error: HTTPSConnectionPool(host='sokuup.net', port=443): Max retries exceeded with url: /img/soku_35209.jpg (Caused by NewConnectionError('<urllib3.connection.HTTPSConnection object at 0x7fde27526af0>: Failed to establish a new connection: [Errno 113] No route to host')), remaining retry times: 2\n",
            "ERROR:downloader:Exception caught when downloading file https://sokuup.net/img/soku_12447.jpg, error: HTTPSConnectionPool(host='sokuup.net', port=443): Max retries exceeded with url: /img/soku_12447.jpg (Caused by NewConnectionError('<urllib3.connection.HTTPSConnection object at 0x7fde4008a1c0>: Failed to establish a new connection: [Errno 113] No route to host')), remaining retry times: 0\n",
            "ERROR:downloader:Exception caught when downloading file https://sokuup.net/img/soku_06060.jpg, error: HTTPSConnectionPool(host='sokuup.net', port=443): Max retries exceeded with url: /img/soku_06060.jpg (Caused by NewConnectionError('<urllib3.connection.HTTPSConnection object at 0x7fde400cab80>: Failed to establish a new connection: [Errno 113] No route to host')), remaining retry times: 1\n",
            "ERROR:downloader:Exception caught when downloading file https://sokuup.net/img/soku_35209.jpg, error: HTTPSConnectionPool(host='sokuup.net', port=443): Max retries exceeded with url: /img/soku_35209.jpg (Caused by NewConnectionError('<urllib3.connection.HTTPSConnection object at 0x7fde27799af0>: Failed to establish a new connection: [Errno 113] No route to host')), remaining retry times: 1\n",
            "ERROR:downloader:Exception caught when downloading file https://sokuup.net/img/soku_16533.jpg, error: HTTPSConnectionPool(host='sokuup.net', port=443): Max retries exceeded with url: /img/soku_16533.jpg (Caused by NewConnectionError('<urllib3.connection.HTTPSConnection object at 0x7fde4008ac40>: Failed to establish a new connection: [Errno 113] No route to host')), remaining retry times: 2\n",
            "ERROR:downloader:Exception caught when downloading file https://sokuup.net/img/soku_06060.jpg, error: HTTPSConnectionPool(host='sokuup.net', port=443): Max retries exceeded with url: /img/soku_06060.jpg (Caused by NewConnectionError('<urllib3.connection.HTTPSConnection object at 0x7fde27799ca0>: Failed to establish a new connection: [Errno 113] No route to host')), remaining retry times: 0\n",
            "ERROR:downloader:Exception caught when downloading file https://sokuup.net/img/soku_16533.jpg, error: HTTPSConnectionPool(host='sokuup.net', port=443): Max retries exceeded with url: /img/soku_16533.jpg (Caused by NewConnectionError('<urllib3.connection.HTTPSConnection object at 0x7fde40569fa0>: Failed to establish a new connection: [Errno 113] No route to host')), remaining retry times: 1\n",
            "ERROR:downloader:Exception caught when downloading file https://sokuup.net/img/soku_13048.jpg, error: HTTPSConnectionPool(host='sokuup.net', port=443): Max retries exceeded with url: /img/soku_13048.jpg (Caused by NewConnectionError('<urllib3.connection.HTTPSConnection object at 0x7fde27509100>: Failed to establish a new connection: [Errno 113] No route to host')), remaining retry times: 2\n",
            "ERROR:downloader:Exception caught when downloading file https://sokuup.net/img/soku_35209.jpg, error: HTTPSConnectionPool(host='sokuup.net', port=443): Max retries exceeded with url: /img/soku_35209.jpg (Caused by NewConnectionError('<urllib3.connection.HTTPSConnection object at 0x7fde40569880>: Failed to establish a new connection: [Errno 113] No route to host')), remaining retry times: 0\n",
            "ERROR:downloader:Exception caught when downloading file https://sokuup.net/img/soku_35116.jpg, error: HTTPSConnectionPool(host='sokuup.net', port=443): Max retries exceeded with url: /img/soku_35116.jpg (Caused by NewConnectionError('<urllib3.connection.HTTPSConnection object at 0x7fde4262f5b0>: Failed to establish a new connection: [Errno 113] No route to host')), remaining retry times: 2\n",
            "ERROR:downloader:Exception caught when downloading file https://sokuup.net/img/soku_16906.jpg, error: HTTPSConnectionPool(host='sokuup.net', port=443): Max retries exceeded with url: /img/soku_16906.jpg (Caused by NewConnectionError('<urllib3.connection.HTTPSConnection object at 0x7fde27687e80>: Failed to establish a new connection: [Errno 113] No route to host')), remaining retry times: 2\n",
            "ERROR:downloader:Exception caught when downloading file https://sokuup.net/img/soku_13048.jpg, error: HTTPSConnectionPool(host='sokuup.net', port=443): Max retries exceeded with url: /img/soku_13048.jpg (Caused by NewConnectionError('<urllib3.connection.HTTPSConnection object at 0x7fde276bca30>: Failed to establish a new connection: [Errno 113] No route to host')), remaining retry times: 1\n",
            "ERROR:downloader:Exception caught when downloading file https://sokuup.net/img/soku_16533.jpg, error: HTTPSConnectionPool(host='sokuup.net', port=443): Max retries exceeded with url: /img/soku_16533.jpg (Caused by NewConnectionError('<urllib3.connection.HTTPSConnection object at 0x7fde276bc0a0>: Failed to establish a new connection: [Errno 113] No route to host')), remaining retry times: 0\n",
            "ERROR:downloader:Exception caught when downloading file https://sokuup.net/img/soku_35116.jpg, error: HTTPSConnectionPool(host='sokuup.net', port=443): Max retries exceeded with url: /img/soku_35116.jpg (Caused by NewConnectionError('<urllib3.connection.HTTPSConnection object at 0x7fde27687460>: Failed to establish a new connection: [Errno 113] No route to host')), remaining retry times: 1\n",
            "ERROR:downloader:Exception caught when downloading file https://sokuup.net/img/soku_16906.jpg, error: HTTPSConnectionPool(host='sokuup.net', port=443): Max retries exceeded with url: /img/soku_16906.jpg (Caused by NewConnectionError('<urllib3.connection.HTTPSConnection object at 0x7fde27687ca0>: Failed to establish a new connection: [Errno 113] No route to host')), remaining retry times: 1\n",
            "ERROR:downloader:Exception caught when downloading file https://sokuup.net/img/soku_35116.jpg, error: HTTPSConnectionPool(host='sokuup.net', port=443): Max retries exceeded with url: /img/soku_35116.jpg (Caused by NewConnectionError('<urllib3.connection.HTTPSConnection object at 0x7fde276bc4c0>: Failed to establish a new connection: [Errno 113] No route to host')), remaining retry times: 0\n",
            "ERROR:downloader:Exception caught when downloading file https://sokuup.net/img/soku_34627.jpg, error: HTTPSConnectionPool(host='sokuup.net', port=443): Max retries exceeded with url: /img/soku_34627.jpg (Caused by NewConnectionError('<urllib3.connection.HTTPSConnection object at 0x7fde276bc880>: Failed to establish a new connection: [Errno 113] No route to host')), remaining retry times: 2\n",
            "ERROR:downloader:Exception caught when downloading file https://sokuup.net/img/soku_13048.jpg, error: HTTPSConnectionPool(host='sokuup.net', port=443): Max retries exceeded with url: /img/soku_13048.jpg (Caused by NewConnectionError('<urllib3.connection.HTTPSConnection object at 0x7fde27535fa0>: Failed to establish a new connection: [Errno 113] No route to host')), remaining retry times: 0\n",
            "ERROR:downloader:Response status code 403, file https://c.wallhere.com/photos/5f/eb/animals_birds_sparrow_food_branch-88969.jpg\n",
            "ERROR:downloader:Response status code 404, file http://www.kobe-sizennoie.com/upimg/b8b97c5e1dce1ae18c36d50648e4ea7e/710x710.jpg\n",
            "ERROR:downloader:Exception caught when downloading file https://sokuup.net/img/soku_30237.jpg, error: HTTPSConnectionPool(host='sokuup.net', port=443): Max retries exceeded with url: /img/soku_30237.jpg (Caused by NewConnectionError('<urllib3.connection.HTTPSConnection object at 0x7fde275094c0>: Failed to establish a new connection: [Errno 113] No route to host')), remaining retry times: 2\n",
            "ERROR:downloader:Exception caught when downloading file https://sokuup.net/img/soku_34627.jpg, error: HTTPSConnectionPool(host='sokuup.net', port=443): Max retries exceeded with url: /img/soku_34627.jpg (Caused by NewConnectionError('<urllib3.connection.HTTPSConnection object at 0x7fde275353a0>: Failed to establish a new connection: [Errno 113] No route to host')), remaining retry times: 1\n",
            "ERROR:downloader:Exception caught when downloading file https://sokuup.net/img/soku_16906.jpg, error: HTTPSConnectionPool(host='sokuup.net', port=443): Max retries exceeded with url: /img/soku_16906.jpg (Caused by NewConnectionError('<urllib3.connection.HTTPSConnection object at 0x7fde27799b20>: Failed to establish a new connection: [Errno 113] No route to host')), remaining retry times: 0\n",
            "ERROR:downloader:Exception caught when downloading file https://sokuup.net/img/soku_30237.jpg, error: HTTPSConnectionPool(host='sokuup.net', port=443): Max retries exceeded with url: /img/soku_30237.jpg (Caused by NewConnectionError('<urllib3.connection.HTTPSConnection object at 0x7fde275352b0>: Failed to establish a new connection: [Errno 113] No route to host')), remaining retry times: 1\n",
            "ERROR:downloader:Exception caught when downloading file https://sokuup.net/img/soku_09485.jpg, error: HTTPSConnectionPool(host='sokuup.net', port=443): Max retries exceeded with url: /img/soku_09485.jpg (Caused by NewConnectionError('<urllib3.connection.HTTPSConnection object at 0x7fde276b98b0>: Failed to establish a new connection: [Errno 113] No route to host')), remaining retry times: 2\n",
            "ERROR:downloader:Exception caught when downloading file https://sokuup.net/img/soku_34627.jpg, error: HTTPSConnectionPool(host='sokuup.net', port=443): Max retries exceeded with url: /img/soku_34627.jpg (Caused by NewConnectionError('<urllib3.connection.HTTPSConnection object at 0x7fde276b9b80>: Failed to establish a new connection: [Errno 113] No route to host')), remaining retry times: 0\n",
            "ERROR:downloader:Exception caught when downloading file https://sokuup.net/img/soku_30237.jpg, error: HTTPSConnectionPool(host='sokuup.net', port=443): Max retries exceeded with url: /img/soku_30237.jpg (Caused by ConnectTimeoutError(<urllib3.connection.HTTPSConnection object at 0x7fde27535eb0>, 'Connection to sokuup.net timed out. (connect timeout=5)')), remaining retry times: 0\n",
            "ERROR:downloader:Exception caught when downloading file https://sokuup.net/img/soku_09485.jpg, error: HTTPSConnectionPool(host='sokuup.net', port=443): Max retries exceeded with url: /img/soku_09485.jpg (Caused by ConnectTimeoutError(<urllib3.connection.HTTPSConnection object at 0x7fde4262f2e0>, 'Connection to sokuup.net timed out. (connect timeout=5)')), remaining retry times: 1\n",
            "ERROR:downloader:Exception caught when downloading file http://sokuup.net/img/soku_29848.jpg, error: HTTPConnectionPool(host='sokuup.net', port=80): Max retries exceeded with url: /img/soku_29848.jpg (Caused by NewConnectionError('<urllib3.connection.HTTPConnection object at 0x7fde404d3e50>: Failed to establish a new connection: [Errno 113] No route to host')), remaining retry times: 2\n",
            "ERROR:downloader:Exception caught when downloading file https://sokuup.net/img/soku_28173.jpg, error: HTTPSConnectionPool(host='sokuup.net', port=443): Max retries exceeded with url: /img/soku_28173.jpg (Caused by NewConnectionError('<urllib3.connection.HTTPSConnection object at 0x7fde40584a30>: Failed to establish a new connection: [Errno 113] No route to host')), remaining retry times: 2\n",
            "ERROR:downloader:Response status code 403, file https://c.pxhere.com/photos/e7/f6/baby_bird_bird_thrush_young_thrush-1171344.jpg\n",
            "ERROR:downloader:Response status code 403, file https://c.pxhere.com/photos/20/fa/bird_pigeon_summer_sky_green_wildlife_fly_nature-631555.jpg\n",
            "ERROR:downloader:Exception caught when downloading file https://sokuup.net/img/soku_09485.jpg, error: HTTPSConnectionPool(host='sokuup.net', port=443): Max retries exceeded with url: /img/soku_09485.jpg (Caused by NewConnectionError('<urllib3.connection.HTTPSConnection object at 0x7fde27535fd0>: Failed to establish a new connection: [Errno 113] No route to host')), remaining retry times: 0\n",
            "ERROR:downloader:Exception caught when downloading file http://sokuup.net/img/soku_29848.jpg, error: HTTPConnectionPool(host='sokuup.net', port=80): Max retries exceeded with url: /img/soku_29848.jpg (Caused by NewConnectionError('<urllib3.connection.HTTPConnection object at 0x7fde27687100>: Failed to establish a new connection: [Errno 113] No route to host')), remaining retry times: 1\n",
            "ERROR:downloader:Exception caught when downloading file https://sokuup.net/img/soku_28173.jpg, error: HTTPSConnectionPool(host='sokuup.net', port=443): Max retries exceeded with url: /img/soku_28173.jpg (Caused by NewConnectionError('<urllib3.connection.HTTPSConnection object at 0x7fde27535280>: Failed to establish a new connection: [Errno 113] No route to host')), remaining retry times: 1\n",
            "ERROR:downloader:Response status code 403, file https://c.pxhere.com/photos/1b/f0/sparrow_nature_bird_roof-856029.jpg\n",
            "ERROR:downloader:Exception caught when downloading file https://sokuup.net/img/soku_28173.jpg, error: HTTPSConnectionPool(host='sokuup.net', port=443): Max retries exceeded with url: /img/soku_28173.jpg (Caused by NewConnectionError('<urllib3.connection.HTTPSConnection object at 0x7fde403e07f0>: Failed to establish a new connection: [Errno 113] No route to host')), remaining retry times: 0\n",
            "ERROR:downloader:Exception caught when downloading file http://sokuup.net/img/soku_29848.jpg, error: HTTPConnectionPool(host='sokuup.net', port=80): Max retries exceeded with url: /img/soku_29848.jpg (Caused by NewConnectionError('<urllib3.connection.HTTPConnection object at 0x7fde401eeca0>: Failed to establish a new connection: [Errno 113] No route to host')), remaining retry times: 0\n",
            "ERROR:downloader:Exception caught when downloading file https://sokuup.net/imgs/soku_35281.jpg, error: HTTPSConnectionPool(host='sokuup.net', port=443): Max retries exceeded with url: /imgs/soku_35281.jpg (Caused by NewConnectionError('<urllib3.connection.HTTPSConnection object at 0x7fde4043bee0>: Failed to establish a new connection: [Errno 113] No route to host')), remaining retry times: 2\n",
            "ERROR:downloader:Response status code 403, file https://c.pxhere.com/photos/55/35/oiseau_bruant_chanteur_bird_song_sparrow_sherbrooke_quebec-264225.jpg\n",
            "ERROR:downloader:Response status code 400, file https://media.istockphoto.com/id/1484588550/ja/ベクター/鳥のかわいいスズメが歌のコンセプトを歌うベクターグラフィックデザインイラスト.jpg\n",
            "ERROR:downloader:Exception caught when downloading file https://sokuup.net/imgs/soku_35281.jpg, error: HTTPSConnectionPool(host='sokuup.net', port=443): Max retries exceeded with url: /imgs/soku_35281.jpg (Caused by NewConnectionError('<urllib3.connection.HTTPSConnection object at 0x7fde2764e7f0>: Failed to establish a new connection: [Errno 113] No route to host')), remaining retry times: 1\n",
            "ERROR:downloader:Response status code 400, file https://media.istockphoto.com/id/1483870150/ja/ストックフォト/一般的なムクドリ若い鳥はユーラシアの木のスズメの会社で古いガス管の上に座っています.jpg\n",
            "ERROR:downloader:Response status code 400, file https://media.istockphoto.com/id/1483629654/ja/ストックフォト/台北公園の草の上にとまる平野のプリニア鳥.jpg\n",
            "ERROR:downloader:Response status code 400, file https://media.istockphoto.com/id/1482827321/ja/ストックフォト/道路上の死んだ鳥の死体と死骸のクローズアップ写真.jpg\n",
            "ERROR:downloader:Exception caught when downloading file https://sokuup.net/imgs/soku_35281.jpg, error: HTTPSConnectionPool(host='sokuup.net', port=443): Max retries exceeded with url: /imgs/soku_35281.jpg (Caused by NewConnectionError('<urllib3.connection.HTTPSConnection object at 0x7fde27659c70>: Failed to establish a new connection: [Errno 113] No route to host')), remaining retry times: 0\n"
          ]
        }
      ]
    },
    {
      "cell_type": "code",
      "source": [
        "from icrawler.builtin import BingImageCrawler\n",
        "\n",
        "google_crawler = BingImageCrawler(\n",
        "    feeder_threads=1,\n",
        "    parser_threads=1,\n",
        "    downloader_threads=4,\n",
        "    storage={'root_dir': 'images/swallow'})\n",
        "google_crawler.crawl(keyword='鳥　ツバメ', max_num=1000)"
      ],
      "metadata": {
        "colab": {
          "base_uri": "https://localhost:8080/"
        },
        "id": "JIe-1Z28kDPe",
        "outputId": "029f7f2d-4ad8-4da8-981d-e15a44e8d041"
      },
      "execution_count": null,
      "outputs": [
        {
          "output_type": "stream",
          "name": "stderr",
          "text": [
            "ERROR:downloader:Exception caught when downloading file https://www.kyoiku-shuppan.co.jp/docs/pages/rika/guide/bird/img/tubame_3.jpg, error: HTTPSConnectionPool(host='www.kyoiku-shuppan.co.jp', port=443): Max retries exceeded with url: /docs/pages/rika/guide/bird/img/tubame_3.jpg (Caused by SSLError(SSLError(1, '[SSL: DH_KEY_TOO_SMALL] dh key too small (_ssl.c:1129)'))), remaining retry times: 2\n",
            "ERROR:downloader:Exception caught when downloading file https://www.kyoiku-shuppan.co.jp/docs/pages/rika/guide/bird/img/tubame_3.jpg, error: HTTPSConnectionPool(host='www.kyoiku-shuppan.co.jp', port=443): Max retries exceeded with url: /docs/pages/rika/guide/bird/img/tubame_3.jpg (Caused by SSLError(SSLError(1, '[SSL: DH_KEY_TOO_SMALL] dh key too small (_ssl.c:1129)'))), remaining retry times: 1\n",
            "ERROR:downloader:Exception caught when downloading file https://www.kyoiku-shuppan.co.jp/docs/pages/rika/guide/bird/img/tubame_3.jpg, error: HTTPSConnectionPool(host='www.kyoiku-shuppan.co.jp', port=443): Max retries exceeded with url: /docs/pages/rika/guide/bird/img/tubame_3.jpg (Caused by SSLError(SSLError(1, '[SSL: DH_KEY_TOO_SMALL] dh key too small (_ssl.c:1129)'))), remaining retry times: 0\n",
            "ERROR:downloader:Exception caught when downloading file http://sokuup.net/img/soku_18923.jpg, error: HTTPConnectionPool(host='sokuup.net', port=80): Max retries exceeded with url: /img/soku_18923.jpg (Caused by NewConnectionError('<urllib3.connection.HTTPConnection object at 0x7fde4057fd60>: Failed to establish a new connection: [Errno 113] No route to host')), remaining retry times: 2\n",
            "ERROR:downloader:Exception caught when downloading file https://www.kyoiku-shuppan.co.jp/docs/pages/rika/guide/bird/img/tubame_1.jpg, error: HTTPSConnectionPool(host='www.kyoiku-shuppan.co.jp', port=443): Max retries exceeded with url: /docs/pages/rika/guide/bird/img/tubame_1.jpg (Caused by SSLError(SSLError(1, '[SSL: DH_KEY_TOO_SMALL] dh key too small (_ssl.c:1129)'))), remaining retry times: 2\n",
            "ERROR:downloader:Exception caught when downloading file https://www.kyoiku-shuppan.co.jp/docs/pages/rika/guide/bird/img/tubame_1.jpg, error: HTTPSConnectionPool(host='www.kyoiku-shuppan.co.jp', port=443): Max retries exceeded with url: /docs/pages/rika/guide/bird/img/tubame_1.jpg (Caused by SSLError(SSLError(1, '[SSL: DH_KEY_TOO_SMALL] dh key too small (_ssl.c:1129)'))), remaining retry times: 1\n",
            "ERROR:downloader:Exception caught when downloading file https://www.kyoiku-shuppan.co.jp/docs/pages/rika/guide/bird/img/tubame_1.jpg, error: HTTPSConnectionPool(host='www.kyoiku-shuppan.co.jp', port=443): Max retries exceeded with url: /docs/pages/rika/guide/bird/img/tubame_1.jpg (Caused by SSLError(SSLError(1, '[SSL: DH_KEY_TOO_SMALL] dh key too small (_ssl.c:1129)'))), remaining retry times: 0\n",
            "ERROR:downloader:Exception caught when downloading file https://sokuup.net/img/soku_18049.jpg, error: HTTPSConnectionPool(host='sokuup.net', port=443): Max retries exceeded with url: /img/soku_18049.jpg (Caused by NewConnectionError('<urllib3.connection.HTTPSConnection object at 0x7fde42622be0>: Failed to establish a new connection: [Errno 113] No route to host')), remaining retry times: 2\n",
            "ERROR:downloader:Exception caught when downloading file http://sokuup.net/img/soku_18923.jpg, error: HTTPConnectionPool(host='sokuup.net', port=80): Max retries exceeded with url: /img/soku_18923.jpg (Caused by NewConnectionError('<urllib3.connection.HTTPConnection object at 0x7fde275054c0>: Failed to establish a new connection: [Errno 113] No route to host')), remaining retry times: 1\n",
            "ERROR:downloader:Exception caught when downloading file https://sokuup.net/img/soku_18049.jpg, error: HTTPSConnectionPool(host='sokuup.net', port=443): Max retries exceeded with url: /img/soku_18049.jpg (Caused by NewConnectionError('<urllib3.connection.HTTPSConnection object at 0x7fde401897c0>: Failed to establish a new connection: [Errno 113] No route to host')), remaining retry times: 1\n",
            "ERROR:downloader:Exception caught when downloading file http://sokuup.net/img/soku_18923.jpg, error: HTTPConnectionPool(host='sokuup.net', port=80): Max retries exceeded with url: /img/soku_18923.jpg (Caused by NewConnectionError('<urllib3.connection.HTTPConnection object at 0x7fde40189f70>: Failed to establish a new connection: [Errno 113] No route to host')), remaining retry times: 0\n",
            "WARNING:urllib3.connection:Certificate did not match expected hostname: gorosuke.com. Certificate: {'subject': ((('commonName', '*.coreserver.jp'),),), 'issuer': ((('countryName', 'BE'),), (('organizationName', 'GlobalSign nv-sa'),), (('commonName', 'AlphaSSL CA - SHA256 - G2'),)), 'version': 3, 'serialNumber': '782B0637AF56A723E809F158', 'notBefore': 'May  6 05:52:51 2022 GMT', 'notAfter': 'Jun  7 05:52:50 2023 GMT', 'subjectAltName': (('DNS', '*.coreserver.jp'), ('DNS', 'coreserver.jp')), 'OCSP': ('http://ocsp2.globalsign.com/gsalphasha2g2',), 'caIssuers': ('http://secure.globalsign.com/cacert/gsalphasha2g2r1.crt',), 'crlDistributionPoints': ('http://crl.globalsign.com/gs/gsalphasha2g2.crl',)}\n",
            "ERROR:downloader:Exception caught when downloading file https://gorosuke.com/wp-content/uploads/album/20070621tubame/20070621tubame0002.jpg, error: HTTPSConnectionPool(host='gorosuke.com', port=443): Max retries exceeded with url: /wp-content/uploads/album/20070621tubame/20070621tubame0002.jpg (Caused by SSLError(CertificateError(\"hostname 'gorosuke.com' doesn't match either of '*.coreserver.jp', 'coreserver.jp'\"))), remaining retry times: 2\n",
            "WARNING:urllib3.connection:Certificate did not match expected hostname: gorosuke.com. Certificate: {'subject': ((('commonName', '*.coreserver.jp'),),), 'issuer': ((('countryName', 'BE'),), (('organizationName', 'GlobalSign nv-sa'),), (('commonName', 'AlphaSSL CA - SHA256 - G2'),)), 'version': 3, 'serialNumber': '782B0637AF56A723E809F158', 'notBefore': 'May  6 05:52:51 2022 GMT', 'notAfter': 'Jun  7 05:52:50 2023 GMT', 'subjectAltName': (('DNS', '*.coreserver.jp'), ('DNS', 'coreserver.jp')), 'OCSP': ('http://ocsp2.globalsign.com/gsalphasha2g2',), 'caIssuers': ('http://secure.globalsign.com/cacert/gsalphasha2g2r1.crt',), 'crlDistributionPoints': ('http://crl.globalsign.com/gs/gsalphasha2g2.crl',)}\n",
            "ERROR:downloader:Exception caught when downloading file https://gorosuke.com/wp-content/uploads/album/20070621tubame/20070621tubame0002.jpg, error: HTTPSConnectionPool(host='gorosuke.com', port=443): Max retries exceeded with url: /wp-content/uploads/album/20070621tubame/20070621tubame0002.jpg (Caused by SSLError(CertificateError(\"hostname 'gorosuke.com' doesn't match either of '*.coreserver.jp', 'coreserver.jp'\"))), remaining retry times: 1\n",
            "WARNING:urllib3.connection:Certificate did not match expected hostname: gorosuke.com. Certificate: {'subject': ((('commonName', '*.coreserver.jp'),),), 'issuer': ((('countryName', 'BE'),), (('organizationName', 'GlobalSign nv-sa'),), (('commonName', 'AlphaSSL CA - SHA256 - G2'),)), 'version': 3, 'serialNumber': '782B0637AF56A723E809F158', 'notBefore': 'May  6 05:52:51 2022 GMT', 'notAfter': 'Jun  7 05:52:50 2023 GMT', 'subjectAltName': (('DNS', '*.coreserver.jp'), ('DNS', 'coreserver.jp')), 'OCSP': ('http://ocsp2.globalsign.com/gsalphasha2g2',), 'caIssuers': ('http://secure.globalsign.com/cacert/gsalphasha2g2r1.crt',), 'crlDistributionPoints': ('http://crl.globalsign.com/gs/gsalphasha2g2.crl',)}\n",
            "ERROR:downloader:Exception caught when downloading file https://gorosuke.com/wp-content/uploads/album/20070621tubame/20070621tubame0002.jpg, error: HTTPSConnectionPool(host='gorosuke.com', port=443): Max retries exceeded with url: /wp-content/uploads/album/20070621tubame/20070621tubame0002.jpg (Caused by SSLError(CertificateError(\"hostname 'gorosuke.com' doesn't match either of '*.coreserver.jp', 'coreserver.jp'\"))), remaining retry times: 0\n",
            "ERROR:downloader:Exception caught when downloading file https://sokuup.net/img/soku_18049.jpg, error: HTTPSConnectionPool(host='sokuup.net', port=443): Max retries exceeded with url: /img/soku_18049.jpg (Caused by NewConnectionError('<urllib3.connection.HTTPSConnection object at 0x7fde404cc250>: Failed to establish a new connection: [Errno 113] No route to host')), remaining retry times: 0\n",
            "ERROR:downloader:Exception caught when downloading file https://sokuup.net/img/soku_34396.jpg, error: HTTPSConnectionPool(host='sokuup.net', port=443): Max retries exceeded with url: /img/soku_34396.jpg (Caused by NewConnectionError('<urllib3.connection.HTTPSConnection object at 0x7fde4040f5e0>: Failed to establish a new connection: [Errno 113] No route to host')), remaining retry times: 2\n",
            "ERROR:downloader:Exception caught when downloading file https://sokuup.net/img/soku_34396.jpg, error: HTTPSConnectionPool(host='sokuup.net', port=443): Max retries exceeded with url: /img/soku_34396.jpg (Caused by NewConnectionError('<urllib3.connection.HTTPSConnection object at 0x7fde403125e0>: Failed to establish a new connection: [Errno 113] No route to host')), remaining retry times: 1\n",
            "ERROR:downloader:Exception caught when downloading file https://sokuup.net/img/soku_34396.jpg, error: HTTPSConnectionPool(host='sokuup.net', port=443): Max retries exceeded with url: /img/soku_34396.jpg (Caused by NewConnectionError('<urllib3.connection.HTTPSConnection object at 0x7fde401898e0>: Failed to establish a new connection: [Errno 113] No route to host')), remaining retry times: 0\n",
            "WARNING:urllib3.connection:Certificate did not match expected hostname: gorosuke.com. Certificate: {'subject': ((('commonName', '*.coreserver.jp'),),), 'issuer': ((('countryName', 'BE'),), (('organizationName', 'GlobalSign nv-sa'),), (('commonName', 'AlphaSSL CA - SHA256 - G2'),)), 'version': 3, 'serialNumber': '782B0637AF56A723E809F158', 'notBefore': 'May  6 05:52:51 2022 GMT', 'notAfter': 'Jun  7 05:52:50 2023 GMT', 'subjectAltName': (('DNS', '*.coreserver.jp'), ('DNS', 'coreserver.jp')), 'OCSP': ('http://ocsp2.globalsign.com/gsalphasha2g2',), 'caIssuers': ('http://secure.globalsign.com/cacert/gsalphasha2g2r1.crt',), 'crlDistributionPoints': ('http://crl.globalsign.com/gs/gsalphasha2g2.crl',)}\n",
            "ERROR:downloader:Exception caught when downloading file https://gorosuke.com/wp-content/uploads/album/20070503tubame0023.jpg, error: HTTPSConnectionPool(host='gorosuke.com', port=443): Max retries exceeded with url: /wp-content/uploads/album/20070503tubame0023.jpg (Caused by SSLError(CertificateError(\"hostname 'gorosuke.com' doesn't match either of '*.coreserver.jp', 'coreserver.jp'\"))), remaining retry times: 2\n",
            "WARNING:urllib3.connection:Certificate did not match expected hostname: gorosuke.com. Certificate: {'subject': ((('commonName', '*.coreserver.jp'),),), 'issuer': ((('countryName', 'BE'),), (('organizationName', 'GlobalSign nv-sa'),), (('commonName', 'AlphaSSL CA - SHA256 - G2'),)), 'version': 3, 'serialNumber': '782B0637AF56A723E809F158', 'notBefore': 'May  6 05:52:51 2022 GMT', 'notAfter': 'Jun  7 05:52:50 2023 GMT', 'subjectAltName': (('DNS', '*.coreserver.jp'), ('DNS', 'coreserver.jp')), 'OCSP': ('http://ocsp2.globalsign.com/gsalphasha2g2',), 'caIssuers': ('http://secure.globalsign.com/cacert/gsalphasha2g2r1.crt',), 'crlDistributionPoints': ('http://crl.globalsign.com/gs/gsalphasha2g2.crl',)}\n",
            "ERROR:downloader:Exception caught when downloading file https://gorosuke.com/wp-content/uploads/album/20070503tubame0023.jpg, error: HTTPSConnectionPool(host='gorosuke.com', port=443): Max retries exceeded with url: /wp-content/uploads/album/20070503tubame0023.jpg (Caused by SSLError(CertificateError(\"hostname 'gorosuke.com' doesn't match either of '*.coreserver.jp', 'coreserver.jp'\"))), remaining retry times: 1\n",
            "WARNING:urllib3.connection:Certificate did not match expected hostname: gorosuke.com. Certificate: {'subject': ((('commonName', '*.coreserver.jp'),),), 'issuer': ((('countryName', 'BE'),), (('organizationName', 'GlobalSign nv-sa'),), (('commonName', 'AlphaSSL CA - SHA256 - G2'),)), 'version': 3, 'serialNumber': '782B0637AF56A723E809F158', 'notBefore': 'May  6 05:52:51 2022 GMT', 'notAfter': 'Jun  7 05:52:50 2023 GMT', 'subjectAltName': (('DNS', '*.coreserver.jp'), ('DNS', 'coreserver.jp')), 'OCSP': ('http://ocsp2.globalsign.com/gsalphasha2g2',), 'caIssuers': ('http://secure.globalsign.com/cacert/gsalphasha2g2r1.crt',), 'crlDistributionPoints': ('http://crl.globalsign.com/gs/gsalphasha2g2.crl',)}\n",
            "ERROR:downloader:Exception caught when downloading file https://gorosuke.com/wp-content/uploads/album/20070503tubame0023.jpg, error: HTTPSConnectionPool(host='gorosuke.com', port=443): Max retries exceeded with url: /wp-content/uploads/album/20070503tubame0023.jpg (Caused by SSLError(CertificateError(\"hostname 'gorosuke.com' doesn't match either of '*.coreserver.jp', 'coreserver.jp'\"))), remaining retry times: 0\n",
            "ERROR:downloader:Exception caught when downloading file https://sokuup.net/img/soku_19974.jpg, error: HTTPSConnectionPool(host='sokuup.net', port=443): Max retries exceeded with url: /img/soku_19974.jpg (Caused by NewConnectionError('<urllib3.connection.HTTPSConnection object at 0x7fde27631f40>: Failed to establish a new connection: [Errno 113] No route to host')), remaining retry times: 2\n",
            "ERROR:downloader:Exception caught when downloading file https://sokuup.net/img/soku_16108.jpg, error: HTTPSConnectionPool(host='sokuup.net', port=443): Max retries exceeded with url: /img/soku_16108.jpg (Caused by NewConnectionError('<urllib3.connection.HTTPSConnection object at 0x7fde2763e970>: Failed to establish a new connection: [Errno 113] No route to host')), remaining retry times: 2\n",
            "ERROR:downloader:Exception caught when downloading file https://sokuup.net/img/soku_14449.jpg, error: HTTPSConnectionPool(host='sokuup.net', port=443): Max retries exceeded with url: /img/soku_14449.jpg (Caused by NewConnectionError('<urllib3.connection.HTTPSConnection object at 0x7fde401dac10>: Failed to establish a new connection: [Errno 113] No route to host')), remaining retry times: 2\n",
            "ERROR:downloader:Exception caught when downloading file https://sokuup.net/img/soku_19974.jpg, error: HTTPSConnectionPool(host='sokuup.net', port=443): Max retries exceeded with url: /img/soku_19974.jpg (Caused by NewConnectionError('<urllib3.connection.HTTPSConnection object at 0x7fde400ae5e0>: Failed to establish a new connection: [Errno 113] No route to host')), remaining retry times: 1\n",
            "ERROR:downloader:Exception caught when downloading file https://sokuup.net/img/soku_36063.jpg, error: HTTPSConnectionPool(host='sokuup.net', port=443): Max retries exceeded with url: /img/soku_36063.jpg (Caused by NewConnectionError('<urllib3.connection.HTTPSConnection object at 0x7fde40189730>: Failed to establish a new connection: [Errno 113] No route to host')), remaining retry times: 2\n",
            "ERROR:downloader:Exception caught when downloading file https://sokuup.net/img/soku_16108.jpg, error: HTTPSConnectionPool(host='sokuup.net', port=443): Max retries exceeded with url: /img/soku_16108.jpg (Caused by NewConnectionError('<urllib3.connection.HTTPSConnection object at 0x7fde40216b80>: Failed to establish a new connection: [Errno 113] No route to host')), remaining retry times: 1\n",
            "ERROR:downloader:Exception caught when downloading file https://sokuup.net/img/soku_19974.jpg, error: HTTPSConnectionPool(host='sokuup.net', port=443): Max retries exceeded with url: /img/soku_19974.jpg (Caused by ConnectTimeoutError(<urllib3.connection.HTTPSConnection object at 0x7fde401dfe50>, 'Connection to sokuup.net timed out. (connect timeout=5)')), remaining retry times: 0\n",
            "ERROR:downloader:Exception caught when downloading file https://sokuup.net/img/soku_14449.jpg, error: HTTPSConnectionPool(host='sokuup.net', port=443): Max retries exceeded with url: /img/soku_14449.jpg (Caused by ConnectTimeoutError(<urllib3.connection.HTTPSConnection object at 0x7fde40312220>, 'Connection to sokuup.net timed out. (connect timeout=5)')), remaining retry times: 1\n",
            "ERROR:downloader:Exception caught when downloading file https://sokuup.net/img/soku_36063.jpg, error: HTTPSConnectionPool(host='sokuup.net', port=443): Max retries exceeded with url: /img/soku_36063.jpg (Caused by ConnectTimeoutError(<urllib3.connection.HTTPSConnection object at 0x7fde402ba250>, 'Connection to sokuup.net timed out. (connect timeout=5)')), remaining retry times: 1\n",
            "ERROR:downloader:Exception caught when downloading file https://sokuup.net/img/soku_16108.jpg, error: HTTPSConnectionPool(host='sokuup.net', port=443): Max retries exceeded with url: /img/soku_16108.jpg (Caused by ConnectTimeoutError(<urllib3.connection.HTTPSConnection object at 0x7fde402ba1f0>, 'Connection to sokuup.net timed out. (connect timeout=5)')), remaining retry times: 0\n",
            "ERROR:downloader:Exception caught when downloading file https://sokuup.net/img/soku_17139.jpg, error: HTTPSConnectionPool(host='sokuup.net', port=443): Max retries exceeded with url: /img/soku_17139.jpg (Caused by ConnectTimeoutError(<urllib3.connection.HTTPSConnection object at 0x7fde272e5400>, 'Connection to sokuup.net timed out. (connect timeout=5)')), remaining retry times: 2\n",
            "ERROR:downloader:Exception caught when downloading file https://sokuup.net/img/soku_14449.jpg, error: HTTPSConnectionPool(host='sokuup.net', port=443): Max retries exceeded with url: /img/soku_14449.jpg (Caused by ConnectTimeoutError(<urllib3.connection.HTTPSConnection object at 0x7fde272e5b50>, 'Connection to sokuup.net timed out. (connect timeout=5)')), remaining retry times: 0\n",
            "ERROR:downloader:Exception caught when downloading file https://sokuup.net/img/soku_36063.jpg, error: HTTPSConnectionPool(host='sokuup.net', port=443): Max retries exceeded with url: /img/soku_36063.jpg (Caused by ConnectTimeoutError(<urllib3.connection.HTTPSConnection object at 0x7fde401401c0>, 'Connection to sokuup.net timed out. (connect timeout=5)')), remaining retry times: 0\n",
            "ERROR:downloader:Exception caught when downloading file https://sokuup.net/img/soku_17139.jpg, error: HTTPSConnectionPool(host='sokuup.net', port=443): Max retries exceeded with url: /img/soku_17139.jpg (Caused by NewConnectionError('<urllib3.connection.HTTPSConnection object at 0x7fde4014c460>: Failed to establish a new connection: [Errno 113] No route to host')), remaining retry times: 1\n",
            "ERROR:downloader:Exception caught when downloading file http://sokuup.net/img/soku_01368.jpg, error: HTTPConnectionPool(host='sokuup.net', port=80): Max retries exceeded with url: /img/soku_01368.jpg (Caused by NewConnectionError('<urllib3.connection.HTTPConnection object at 0x7fde401daf40>: Failed to establish a new connection: [Errno 113] No route to host')), remaining retry times: 2\n",
            "ERROR:downloader:Exception caught when downloading file http://sokuup.net/img/soku_17140.jpg, error: HTTPConnectionPool(host='sokuup.net', port=80): Max retries exceeded with url: /img/soku_17140.jpg (Caused by NewConnectionError('<urllib3.connection.HTTPConnection object at 0x7fde4056e700>: Failed to establish a new connection: [Errno 113] No route to host')), remaining retry times: 2\n",
            "ERROR:downloader:Exception caught when downloading file http://sokuup.net/img/soku_01368.jpg, error: HTTPConnectionPool(host='sokuup.net', port=80): Max retries exceeded with url: /img/soku_01368.jpg (Caused by NewConnectionError('<urllib3.connection.HTTPConnection object at 0x7fde276d7550>: Failed to establish a new connection: [Errno 113] No route to host')), remaining retry times: 1\n",
            "ERROR:downloader:Exception caught when downloading file https://sokuup.net/img/soku_17139.jpg, error: HTTPSConnectionPool(host='sokuup.net', port=443): Max retries exceeded with url: /img/soku_17139.jpg (Caused by NewConnectionError('<urllib3.connection.HTTPSConnection object at 0x7fde27748460>: Failed to establish a new connection: [Errno 113] No route to host')), remaining retry times: 0\n",
            "ERROR:downloader:Exception caught when downloading file https://sokuup.net/img/soku_16742.jpg, error: HTTPSConnectionPool(host='sokuup.net', port=443): Max retries exceeded with url: /img/soku_16742.jpg (Caused by NewConnectionError('<urllib3.connection.HTTPSConnection object at 0x7fde400ae280>: Failed to establish a new connection: [Errno 113] No route to host')), remaining retry times: 2\n",
            "ERROR:downloader:Exception caught when downloading file https://sokuup.net/imgs/soku_16735.jpg, error: HTTPSConnectionPool(host='sokuup.net', port=443): Max retries exceeded with url: /imgs/soku_16735.jpg (Caused by NewConnectionError('<urllib3.connection.HTTPSConnection object at 0x7fde27750b80>: Failed to establish a new connection: [Errno 113] No route to host')), remaining retry times: 2\n",
            "ERROR:downloader:Exception caught when downloading file http://sokuup.net/img/soku_01368.jpg, error: HTTPConnectionPool(host='sokuup.net', port=80): Max retries exceeded with url: /img/soku_01368.jpg (Caused by NewConnectionError('<urllib3.connection.HTTPConnection object at 0x7fde40285040>: Failed to establish a new connection: [Errno 113] No route to host')), remaining retry times: 0\n",
            "ERROR:downloader:Exception caught when downloading file http://sokuup.net/img/soku_17140.jpg, error: HTTPConnectionPool(host='sokuup.net', port=80): Max retries exceeded with url: /img/soku_17140.jpg (Caused by NewConnectionError('<urllib3.connection.HTTPConnection object at 0x7fde276d7fd0>: Failed to establish a new connection: [Errno 113] No route to host')), remaining retry times: 1\n",
            "ERROR:downloader:Exception caught when downloading file https://sokuup.net/img/soku_16742.jpg, error: HTTPSConnectionPool(host='sokuup.net', port=443): Max retries exceeded with url: /img/soku_16742.jpg (Caused by NewConnectionError('<urllib3.connection.HTTPSConnection object at 0x7fde400aee50>: Failed to establish a new connection: [Errno 113] No route to host')), remaining retry times: 1\n",
            "ERROR:downloader:Exception caught when downloading file http://sokuup.net/img/soku_17140.jpg, error: HTTPConnectionPool(host='sokuup.net', port=80): Max retries exceeded with url: /img/soku_17140.jpg (Caused by NewConnectionError('<urllib3.connection.HTTPConnection object at 0x7fde2762a7c0>: Failed to establish a new connection: [Errno 113] No route to host')), remaining retry times: 0\n",
            "ERROR:downloader:Exception caught when downloading file https://sokuup.net/img/soku_16742.jpg, error: HTTPSConnectionPool(host='sokuup.net', port=443): Max retries exceeded with url: /img/soku_16742.jpg (Caused by NewConnectionError('<urllib3.connection.HTTPSConnection object at 0x7fde4008af70>: Failed to establish a new connection: [Errno 113] No route to host')), remaining retry times: 0\n",
            "ERROR:downloader:Exception caught when downloading file https://sokuup.net/imgs/soku_16735.jpg, error: HTTPSConnectionPool(host='sokuup.net', port=443): Max retries exceeded with url: /imgs/soku_16735.jpg (Caused by NewConnectionError('<urllib3.connection.HTTPSConnection object at 0x7fde2762a0d0>: Failed to establish a new connection: [Errno 113] No route to host')), remaining retry times: 1\n",
            "ERROR:downloader:Response status code 400, file https://media.istockphoto.com/id/968956792/ja/ベクター/レトロなスタイル手描きスケッチにツバメ飛ぶ鳥ビンテージ図が刻まれました.jpg\n",
            "ERROR:downloader:Exception caught when downloading file https://sokuup.net/imgs/soku_16735.jpg, error: HTTPSConnectionPool(host='sokuup.net', port=443): Max retries exceeded with url: /imgs/soku_16735.jpg (Caused by NewConnectionError('<urllib3.connection.HTTPSConnection object at 0x7fde27389730>: Failed to establish a new connection: [Errno 113] No route to host')), remaining retry times: 0\n",
            "ERROR:downloader:Exception caught when downloading file https://sokuup.net/img/soku_19968.jpg, error: HTTPSConnectionPool(host='sokuup.net', port=443): Max retries exceeded with url: /img/soku_19968.jpg (Caused by NewConnectionError('<urllib3.connection.HTTPSConnection object at 0x7fde4008a940>: Failed to establish a new connection: [Errno 113] No route to host')), remaining retry times: 2\n",
            "ERROR:downloader:Exception caught when downloading file https://sokuup.net/img/soku_18676.jpg, error: HTTPSConnectionPool(host='sokuup.net', port=443): Max retries exceeded with url: /img/soku_18676.jpg (Caused by NewConnectionError('<urllib3.connection.HTTPSConnection object at 0x7fde4008a040>: Failed to establish a new connection: [Errno 113] No route to host')), remaining retry times: 2\n",
            "ERROR:downloader:Response status code 400, file https://media.istockphoto.com/id/1423302671/ja/ベクター/納屋ツバメのベクトルブラックシルエット.jpg\n",
            "ERROR:downloader:Exception caught when downloading file https://sokuup.net/img/soku_18676.jpg, error: HTTPSConnectionPool(host='sokuup.net', port=443): Max retries exceeded with url: /img/soku_18676.jpg (Caused by NewConnectionError('<urllib3.connection.HTTPSConnection object at 0x7fde276d7820>: Failed to establish a new connection: [Errno 113] No route to host')), remaining retry times: 1\n",
            "ERROR:downloader:Exception caught when downloading file https://sokuup.net/img/soku_19968.jpg, error: HTTPSConnectionPool(host='sokuup.net', port=443): Max retries exceeded with url: /img/soku_19968.jpg (Caused by NewConnectionError('<urllib3.connection.HTTPSConnection object at 0x7fde276d7fd0>: Failed to establish a new connection: [Errno 113] No route to host')), remaining retry times: 1\n",
            "ERROR:downloader:Exception caught when downloading file https://sokuup.net/img/soku_18676.jpg, error: HTTPSConnectionPool(host='sokuup.net', port=443): Max retries exceeded with url: /img/soku_18676.jpg (Caused by ConnectTimeoutError(<urllib3.connection.HTTPSConnection object at 0x7fde40285ac0>, 'Connection to sokuup.net timed out. (connect timeout=5)')), remaining retry times: 0\n",
            "ERROR:downloader:Exception caught when downloading file https://sokuup.net/img/soku_19968.jpg, error: HTTPSConnectionPool(host='sokuup.net', port=443): Max retries exceeded with url: /img/soku_19968.jpg (Caused by ConnectTimeoutError(<urllib3.connection.HTTPSConnection object at 0x7fde2762a490>, 'Connection to sokuup.net timed out. (connect timeout=5)')), remaining retry times: 0\n"
          ]
        }
      ]
    },
    {
      "cell_type": "code",
      "source": [
        "!pip install split-folders\n",
        "\n",
        "import splitfolders\n",
        "splitfolders.ratio('images', output=\"output\", seed=1337, ratio=(.8, .1, .1))"
      ],
      "metadata": {
        "colab": {
          "base_uri": "https://localhost:8080/"
        },
        "id": "CDkXxlU8lMyH",
        "outputId": "bd4de581-1002-4e1c-d502-ce9eb269621f"
      },
      "execution_count": null,
      "outputs": [
        {
          "output_type": "stream",
          "name": "stdout",
          "text": [
            "Looking in indexes: https://pypi.org/simple, https://us-python.pkg.dev/colab-wheels/public/simple/\n",
            "Collecting split-folders\n",
            "  Downloading split_folders-0.5.1-py3-none-any.whl (8.4 kB)\n",
            "Installing collected packages: split-folders\n",
            "Successfully installed split-folders-0.5.1\n"
          ]
        },
        {
          "output_type": "stream",
          "name": "stderr",
          "text": [
            "Copying files: 967 files [00:00, 1996.69 files/s]\n"
          ]
        }
      ]
    },
    {
      "cell_type": "code",
      "source": [
        "from tensorflow import keras\n",
        "import tensorflow_hub as hub"
      ],
      "metadata": {
        "id": "TJ7RJB1ea9lZ"
      },
      "execution_count": null,
      "outputs": []
    },
    {
      "cell_type": "code",
      "source": [
        "model = keras.Sequential([\n",
        "    hub.KerasLayer(\n",
        "        \"https://tfhub.dev/google/imagenet/efficientnet_v2_imagenet21k_b0/feature_vector/2\",\n",
        "        trainable=False\n",
        "    ),\n",
        "    keras.layers.Dense(3, activation='softmax')\n",
        "])\n",
        "model.build([None, 224, 224, 3])"
      ],
      "metadata": {
        "id": "xm-P8BSobA9p"
      },
      "execution_count": null,
      "outputs": []
    },
    {
      "cell_type": "code",
      "source": [
        "model.compile(\n",
        "    optimizer=keras.optimizers.Adam(),\n",
        "    loss=\"sparse_categorical_crossentropy\",\n",
        "    metrics=[\"accuracy\"],\n",
        ")"
      ],
      "metadata": {
        "id": "sfxGRdZxU_E9"
      },
      "execution_count": null,
      "outputs": []
    },
    {
      "cell_type": "code",
      "source": [
        "params = {\n",
        "    'zoom_range': [0.5, 2.0],\n",
        "    'rotation_range': 45,\n",
        "    'vertical_flip': True,\n",
        "    'horizontal_flip': True,\n",
        "    'height_shift_range': 0.1,\n",
        "    'width_shift_range': 0.1,\n",
        "    'shear_range': 90,\n",
        "    'channel_shift_range': 127\n",
        "}"
      ],
      "metadata": {
        "id": "wH45KcyuhJCI"
      },
      "execution_count": null,
      "outputs": []
    },
    {
      "cell_type": "code",
      "source": [
        "train_datagen = keras.preprocessing.image.ImageDataGenerator(rescale=(1.0 / 255))\n",
        "train_generator = train_datagen.flow_from_directory(\n",
        "    \"./output/train\",\n",
        "    target_size=(224, 224),\n",
        "    batch_size=64,\n",
        "    class_mode=\"binary\",\n",
        ")"
      ],
      "metadata": {
        "colab": {
          "base_uri": "https://localhost:8080/"
        },
        "id": "hr0lelkTbZwf",
        "outputId": "358fe57c-ef13-471d-bef6-790768f4d022"
      },
      "execution_count": null,
      "outputs": [
        {
          "output_type": "stream",
          "name": "stdout",
          "text": [
            "Found 773 images belonging to 3 classes.\n"
          ]
        }
      ]
    },
    {
      "cell_type": "code",
      "source": [
        "val_datagen = keras.preprocessing.image.ImageDataGenerator(rescale=(1.0 / 255))\n",
        "val_generator = val_datagen.flow_from_directory(\n",
        "    \"./output/val\",\n",
        "    target_size=(224, 224),\n",
        "    batch_size=64,\n",
        "    class_mode=\"binary\",\n",
        ")"
      ],
      "metadata": {
        "colab": {
          "base_uri": "https://localhost:8080/"
        },
        "id": "dcT1wrRpBheO",
        "outputId": "3b1ff640-f79a-411a-fe06-a7e28248b11e"
      },
      "execution_count": null,
      "outputs": [
        {
          "output_type": "stream",
          "name": "stdout",
          "text": [
            "Found 95 images belonging to 3 classes.\n"
          ]
        }
      ]
    },
    {
      "cell_type": "code",
      "source": [
        "model.fit(\n",
        "    train_generator, epochs=20,\n",
        "    steps_per_epoch=train_generator.n // 64,\n",
        "    workers=8,\n",
        "    validation_data=val_generator,\n",
        "    validation_steps=val_generator.n // 64,\n",
        ")"
      ],
      "metadata": {
        "colab": {
          "base_uri": "https://localhost:8080/"
        },
        "id": "3Y3iBCvebfe6",
        "outputId": "a2ff7c40-9c16-47a9-edf4-4c0b2e6e18c7"
      },
      "execution_count": null,
      "outputs": [
        {
          "output_type": "stream",
          "name": "stdout",
          "text": [
            "Epoch 1/20\n",
            "12/12 [==============================] - 47s 2s/step - loss: 1.2952 - accuracy: 0.5740 - val_loss: 0.7112 - val_accuracy: 0.7031\n",
            "Epoch 2/20\n",
            "12/12 [==============================] - 38s 3s/step - loss: 0.6028 - accuracy: 0.8039 - val_loss: 0.4441 - val_accuracy: 0.8594\n",
            "Epoch 3/20\n",
            "12/12 [==============================] - 30s 2s/step - loss: 0.3891 - accuracy: 0.8688 - val_loss: 0.4234 - val_accuracy: 0.8438\n",
            "Epoch 4/20\n",
            "12/12 [==============================] - 28s 1s/step - loss: 0.3235 - accuracy: 0.8956 - val_loss: 0.2590 - val_accuracy: 0.8906\n",
            "Epoch 5/20\n",
            "12/12 [==============================] - 32s 2s/step - loss: 0.2658 - accuracy: 0.8984 - val_loss: 0.3553 - val_accuracy: 0.8750\n",
            "Epoch 6/20\n",
            "12/12 [==============================] - 34s 2s/step - loss: 0.2161 - accuracy: 0.9224 - val_loss: 0.2917 - val_accuracy: 0.8906\n",
            "Epoch 7/20\n",
            "12/12 [==============================] - 31s 2s/step - loss: 0.1816 - accuracy: 0.9379 - val_loss: 0.2776 - val_accuracy: 0.9219\n",
            "Epoch 8/20\n",
            "12/12 [==============================] - 34s 2s/step - loss: 0.1536 - accuracy: 0.9535 - val_loss: 0.1250 - val_accuracy: 0.9375\n",
            "Epoch 9/20\n",
            "12/12 [==============================] - 40s 2s/step - loss: 0.1256 - accuracy: 0.9619 - val_loss: 0.2662 - val_accuracy: 0.8906\n",
            "Epoch 10/20\n",
            "12/12 [==============================] - 38s 3s/step - loss: 0.1081 - accuracy: 0.9704 - val_loss: 0.2456 - val_accuracy: 0.9219\n",
            "Epoch 11/20\n",
            "12/12 [==============================] - 37s 2s/step - loss: 0.1020 - accuracy: 0.9704 - val_loss: 0.3146 - val_accuracy: 0.8750\n",
            "Epoch 12/20\n",
            "12/12 [==============================] - 29s 1s/step - loss: 0.0844 - accuracy: 0.9817 - val_loss: 0.2729 - val_accuracy: 0.8906\n",
            "Epoch 13/20\n",
            "12/12 [==============================] - 41s 3s/step - loss: 0.0757 - accuracy: 0.9817 - val_loss: 0.2092 - val_accuracy: 0.9219\n",
            "Epoch 14/20\n",
            "12/12 [==============================] - 27s 1s/step - loss: 0.0702 - accuracy: 0.9845 - val_loss: 0.2867 - val_accuracy: 0.9062\n",
            "Epoch 15/20\n",
            "12/12 [==============================] - 25s 1s/step - loss: 0.0699 - accuracy: 0.9845 - val_loss: 0.1921 - val_accuracy: 0.9531\n",
            "Epoch 16/20\n",
            "12/12 [==============================] - 31s 2s/step - loss: 0.0669 - accuracy: 0.9859 - val_loss: 0.1896 - val_accuracy: 0.9219\n",
            "Epoch 17/20\n",
            "12/12 [==============================] - 40s 2s/step - loss: 0.0548 - accuracy: 0.9944 - val_loss: 0.2240 - val_accuracy: 0.9219\n",
            "Epoch 18/20\n",
            "12/12 [==============================] - 28s 2s/step - loss: 0.0502 - accuracy: 0.9944 - val_loss: 0.2465 - val_accuracy: 0.9062\n",
            "Epoch 19/20\n",
            "12/12 [==============================] - 40s 2s/step - loss: 0.0496 - accuracy: 0.9944 - val_loss: 0.2403 - val_accuracy: 0.9219\n",
            "Epoch 20/20\n",
            "12/12 [==============================] - 27s 1s/step - loss: 0.0422 - accuracy: 0.9986 - val_loss: 0.2201 - val_accuracy: 0.9375\n"
          ]
        },
        {
          "output_type": "execute_result",
          "data": {
            "text/plain": [
              "<keras.callbacks.History at 0x7fcfcb8e04c0>"
            ]
          },
          "metadata": {},
          "execution_count": 9
        }
      ]
    },
    {
      "cell_type": "code",
      "source": [
        "test_datagen = keras.preprocessing.image.ImageDataGenerator(rescale=(1.0 / 255))\n",
        "test_generator = test_datagen.flow_from_directory(\n",
        "    \"./output/test\",\n",
        "    target_size=(224, 224),\n",
        "    batch_size=64,\n",
        "    class_mode=\"binary\",\n",
        ")"
      ],
      "metadata": {
        "id": "s70VvfMomiMm",
        "colab": {
          "base_uri": "https://localhost:8080/"
        },
        "outputId": "f3b3629b-f344-4dd4-ec82-6c7d56f040b1"
      },
      "execution_count": null,
      "outputs": [
        {
          "output_type": "stream",
          "name": "stdout",
          "text": [
            "Found 99 images belonging to 3 classes.\n"
          ]
        }
      ]
    },
    {
      "cell_type": "code",
      "source": [
        "model.evaluate(test_generator)"
      ],
      "metadata": {
        "id": "qTrcCQSgb8y4",
        "colab": {
          "base_uri": "https://localhost:8080/"
        },
        "outputId": "5b153d0d-cc20-4533-cec5-3de64f963be9"
      },
      "execution_count": null,
      "outputs": [
        {
          "output_type": "stream",
          "name": "stdout",
          "text": [
            "2/2 [==============================] - 3s 2s/step - loss: 0.1661 - accuracy: 0.9394\n"
          ]
        },
        {
          "output_type": "execute_result",
          "data": {
            "text/plain": [
              "[0.16613136231899261, 0.939393937587738]"
            ]
          },
          "metadata": {},
          "execution_count": 12
        }
      ]
    },
    {
      "cell_type": "code",
      "source": [
        "model.save(\"model\")"
      ],
      "metadata": {
        "id": "Z9Hz8QZIfIUA",
        "colab": {
          "base_uri": "https://localhost:8080/"
        },
        "outputId": "f9812dda-9cff-4c75-b0cd-24675a543daa"
      },
      "execution_count": null,
      "outputs": [
        {
          "output_type": "stream",
          "name": "stderr",
          "text": [
            "WARNING:absl:Found untraced functions such as restored_function_body, restored_function_body, restored_function_body, restored_function_body, restored_function_body while saving (showing 5 of 334). These functions will not be directly callable after loading.\n"
          ]
        }
      ]
    },
    {
      "cell_type": "code",
      "source": [
        "!pip install -U tf2onnx\n",
        "!python -m tf2onnx.convert --saved-model model --output model.onnx"
      ],
      "metadata": {
        "id": "AAMORH61flbS",
        "colab": {
          "base_uri": "https://localhost:8080/"
        },
        "outputId": "1cff0f0d-3c90-469c-a2ae-018e2fe50872"
      },
      "execution_count": null,
      "outputs": [
        {
          "output_type": "stream",
          "name": "stdout",
          "text": [
            "Looking in indexes: https://pypi.org/simple, https://us-python.pkg.dev/colab-wheels/public/simple/\n",
            "Requirement already satisfied: tf2onnx in /usr/local/lib/python3.9/dist-packages (1.14.0)\n",
            "Requirement already satisfied: flatbuffers<3.0,>=1.12 in /usr/local/lib/python3.9/dist-packages (from tf2onnx) (2.0.7)\n",
            "Requirement already satisfied: requests in /usr/local/lib/python3.9/dist-packages (from tf2onnx) (2.27.1)\n",
            "Requirement already satisfied: numpy>=1.14.1 in /usr/local/lib/python3.9/dist-packages (from tf2onnx) (1.22.4)\n",
            "Requirement already satisfied: onnx>=1.4.1 in /usr/local/lib/python3.9/dist-packages (from tf2onnx) (1.13.1)\n",
            "Requirement already satisfied: six in /usr/local/lib/python3.9/dist-packages (from tf2onnx) (1.16.0)\n",
            "Requirement already satisfied: protobuf<4,>=3.20.2 in /usr/local/lib/python3.9/dist-packages (from onnx>=1.4.1->tf2onnx) (3.20.3)\n",
            "Requirement already satisfied: typing-extensions>=3.6.2.1 in /usr/local/lib/python3.9/dist-packages (from onnx>=1.4.1->tf2onnx) (4.5.0)\n",
            "Requirement already satisfied: charset-normalizer~=2.0.0 in /usr/local/lib/python3.9/dist-packages (from requests->tf2onnx) (2.0.12)\n",
            "Requirement already satisfied: certifi>=2017.4.17 in /usr/local/lib/python3.9/dist-packages (from requests->tf2onnx) (2022.12.7)\n",
            "Requirement already satisfied: urllib3<1.27,>=1.21.1 in /usr/local/lib/python3.9/dist-packages (from requests->tf2onnx) (1.26.15)\n",
            "Requirement already satisfied: idna<4,>=2.5 in /usr/local/lib/python3.9/dist-packages (from requests->tf2onnx) (3.4)\n",
            "2023-04-27 04:58:08.436607: W tensorflow/compiler/tf2tensorrt/utils/py_utils.cc:38] TF-TRT Warning: Could not find TensorRT\n",
            "/usr/lib/python3.9/runpy.py:127: RuntimeWarning: 'tf2onnx.convert' found in sys.modules after import of package 'tf2onnx', but prior to execution of 'tf2onnx.convert'; this may result in unpredictable behaviour\n",
            "  warn(RuntimeWarning(msg))\n",
            "2023-04-27 04:58:12.926291: W tensorflow/core/common_runtime/gpu/gpu_bfc_allocator.cc:47] Overriding orig_value setting because the TF_FORCE_GPU_ALLOW_GROWTH environment variable is set. Original config value was 0.\n",
            "2023-04-27 04:58:12,927 - WARNING - '--tag' not specified for saved_model. Using --tag serve\n",
            "2023-04-27 04:58:20,168 - INFO - Signatures found in model: [serving_default].\n",
            "2023-04-27 04:58:20,169 - WARNING - '--signature_def' not specified, using first signature: serving_default\n",
            "2023-04-27 04:58:20,170 - INFO - Output names: ['dense']\n",
            "2023-04-27 04:58:24,615 - INFO - Using tensorflow=2.12.0, onnx=1.13.1, tf2onnx=1.14.0/8f8d49\n",
            "2023-04-27 04:58:24,615 - INFO - Using opset <onnx, 15>\n",
            "2023-04-27 04:58:25,031 - INFO - Computed 0 values for constant folding\n",
            "2023-04-27 04:58:26,057 - INFO - Optimizing ONNX model\n",
            "2023-04-27 04:58:29,898 - INFO - After optimization: BatchNormalization -54 (59->5), Const -194 (394->200), GlobalAveragePool +17 (0->17), Identity -2 (2->0), ReduceMean -17 (17->0), Reshape -16 (16->0), Squeeze +1 (0->1), Transpose -315 (316->1)\n",
            "2023-04-27 04:58:29,959 - INFO - \n",
            "2023-04-27 04:58:29,959 - INFO - Successfully converted TensorFlow model model to ONNX\n",
            "2023-04-27 04:58:29,960 - INFO - Model inputs: ['keras_layer_input']\n",
            "2023-04-27 04:58:29,960 - INFO - Model outputs: ['dense']\n",
            "2023-04-27 04:58:29,960 - INFO - ONNX model is saved at model.onnx\n"
          ]
        }
      ]
    },
    {
      "cell_type": "code",
      "source": [
        "from PIL import Image\n",
        "import numpy as np\n",
        "\n",
        "\n",
        "image = Image.open(\"./images/crow/000001.jpg\").convert(\"RGB\").resize((224, 224))\n",
        "image = np.array(image) / 255\n",
        "image = np.expand_dims(image, 0)\n",
        "model.predict(image)"
      ],
      "metadata": {
        "id": "BMJGm4dRfqX6",
        "colab": {
          "base_uri": "https://localhost:8080/"
        },
        "outputId": "da3b7568-6144-4eb0-a3b5-52b2f1dca040"
      },
      "execution_count": null,
      "outputs": [
        {
          "output_type": "stream",
          "name": "stdout",
          "text": [
            "1/1 [==============================] - 0s 33ms/step\n"
          ]
        },
        {
          "output_type": "execute_result",
          "data": {
            "text/plain": [
              "array([[0.83625644, 0.1603644 , 0.00337915]], dtype=float32)"
            ]
          },
          "metadata": {},
          "execution_count": 18
        }
      ]
    },
    {
      "cell_type": "code",
      "source": [
        "!cp model.onnx drive/MyDrive/models/bird.onnx"
      ],
      "metadata": {
        "id": "TalphLm0_PX_"
      },
      "execution_count": null,
      "outputs": []
    }
  ]
}